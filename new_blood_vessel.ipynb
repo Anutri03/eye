{
 "cells": [
  {
   "cell_type": "markdown",
   "id": "b67ebd66",
   "metadata": {},
   "source": [
    "https://colab.research.google.com/github/Anutri03/eye/blob/main/new_blood_vessel.ipynb"
   ]
  },
  {
   "cell_type": "markdown",
   "id": "3d8415be",
   "metadata": {},
   "source": []
  }
 ],
 "metadata": {
  "kernelspec": {
   "display_name": "gpu",
   "language": "python",
   "name": "python3"
  },
  "language_info": {
   "name": "python",
   "version": "3.10.16"
  }
 },
 "nbformat": 4,
 "nbformat_minor": 5
}
