{
 "cells": [
  {
   "cell_type": "markdown",
   "id": "b67ebd66",
   "metadata": {},
   "source": [
    "https://colab.research.google.com/github/Anutri03/eye/blob/main/new_blood_vessel.ipynb"
   ]
  },
  {
   "cell_type": "markdown",
   "id": "d95e7598",
   "metadata": {},
   "source": []
  },
  {
   "cell_type": "code",
   "execution_count": null,
   "id": "514e19a7",
   "metadata": {},
   "outputs": [],
   "source": [
    "!git clone https://github.com/Anutri03/eye.git\n",
    "%cd eye\n"
   ]
  }
 ],
 "metadata": {
  "kernelspec": {
   "display_name": "gpu",
   "language": "python",
   "name": "python3"
  },
  "language_info": {
   "name": "python",
   "version": "3.10.16"
  }
 },
 "nbformat": 4,
 "nbformat_minor": 5
}
